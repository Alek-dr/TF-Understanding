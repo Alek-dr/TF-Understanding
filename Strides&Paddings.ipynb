{
 "cells": [
  {
   "cell_type": "markdown",
   "metadata": {},
   "source": [
    "### Страйды и паддинги"
   ]
  },
  {
   "cell_type": "markdown",
   "metadata": {},
   "source": [
    "#### Stride - параметр, отвечающий за шаг свертки. Padding задает отступ"
   ]
  },
  {
   "cell_type": "code",
   "execution_count": 1,
   "metadata": {},
   "outputs": [],
   "source": [
    "import warnings\n",
    "warnings.filterwarnings('ignore')\n",
    "\n",
    "from IPython.display import display\n",
    "import matplotlib.pyplot as plt\n",
    "import numpy as np\n",
    "import seaborn as sns\n",
    "import tensorflow as tf\n",
    "from tensorflow import keras"
   ]
  },
  {
   "cell_type": "code",
   "execution_count": 2,
   "metadata": {},
   "outputs": [],
   "source": [
    "np.set_printoptions(precision=2)"
   ]
  },
  {
   "cell_type": "code",
   "execution_count": 3,
   "metadata": {},
   "outputs": [],
   "source": [
    "img = np.array([[120,140,143,250,80],\n",
    "                [ 54,160,140,220,70],\n",
    "                [ 30,170,130,200,60]], dtype=np.uint8)"
   ]
  },
  {
   "cell_type": "code",
   "execution_count": 4,
   "metadata": {},
   "outputs": [],
   "source": [
    "img = np.divide(img,255).astype(np.float32)"
   ]
  },
  {
   "cell_type": "code",
   "execution_count": 5,
   "metadata": {},
   "outputs": [
    {
     "data": {
      "text/plain": [
       "array([[0.47, 0.55, 0.56, 0.98, 0.31],\n",
       "       [0.21, 0.63, 0.55, 0.86, 0.27],\n",
       "       [0.12, 0.67, 0.51, 0.78, 0.24]], dtype=float32)"
      ]
     },
     "execution_count": 5,
     "metadata": {},
     "output_type": "execute_result"
    }
   ],
   "source": [
    "img"
   ]
  },
  {
   "cell_type": "code",
   "execution_count": 6,
   "metadata": {},
   "outputs": [
    {
     "data": {
      "text/plain": [
       "<AxesSubplot:>"
      ]
     },
     "execution_count": 6,
     "metadata": {},
     "output_type": "execute_result"
    },
    {
     "data": {
      "image/png": "[encoded data removed]",
      "text/plain": [
       "<Figure size 720x432 with 2 Axes>"
      ]
     },
     "metadata": {
      "needs_background": "light"
     },
     "output_type": "display_data"
    }
   ],
   "source": [
    "fig, ax = plt.subplots()\n",
    "fig.set_size_inches(10, 6)\n",
    "sns.heatmap(img,annot=True, linewidth=1, cmap='cividis', ax=ax)"
   ]
  },
  {
   "cell_type": "code",
   "execution_count": 7,
   "metadata": {},
   "outputs": [],
   "source": [
    "img4process = np.expand_dims(img,axis=[0,3])"
   ]
  },
  {
   "cell_type": "code",
   "execution_count": 8,
   "metadata": {},
   "outputs": [],
   "source": [
    "def convolution_result(conv:keras.layers.Conv2D,image:np.ndarray):\n",
    "    \"\"\"Выполнить свертку изображения image с помощью свертки conv\"\"\"\n",
    "    conv_out = conv(image)\n",
    "    weights = conv.get_weights()[0]\n",
    "    weights = np.array(weights)\n",
    "    rows, cols = weights.shape[0], weights.shape[1]\n",
    "    weights = np.reshape(weights,newshape=(rows,cols))\n",
    "    conv_out = conv_out.numpy()\n",
    "    conv_out = np.squeeze(conv_out,axis=0)\n",
    "    conv_out = np.squeeze(conv_out,axis=2)\n",
    "    return conv_out, weights"
   ]
  },
  {
   "cell_type": "markdown",
   "metadata": {},
   "source": [
    "#### Свертка - Conv2D"
   ]
  },
  {
   "cell_type": "markdown",
   "metadata": {},
   "source": [
    "* Эксперименты с различными размерами ядер свертки"
   ]
  },
  {
   "cell_type": "code",
   "execution_count": 9,
   "metadata": {},
   "outputs": [],
   "source": [
    "conv1 = keras.layers.Conv2D(filters=1,kernel_size=3, strides=(1, 1))\n",
    "conv2 = keras.layers.Conv2D(filters=1,kernel_size=(3,2), strides=(1, 1))\n",
    "conv3 = keras.layers.Conv2D(filters=1,kernel_size=(2,3), strides=(1, 1))"
   ]
  },
  {
   "cell_type": "code",
   "execution_count": 10,
   "metadata": {},
   "outputs": [],
   "source": [
    "conv_out1, weights1 = convolution_result(conv1,img4process)\n",
    "conv_out2, weights2 = convolution_result(conv2,img4process)\n",
    "conv_out3, weights3 = convolution_result(conv3,img4process)"
   ]
  },
  {
   "cell_type": "code",
   "execution_count": 11,
   "metadata": {},
   "outputs": [
    {
     "data": {
      "text/plain": [
       "array([[ 0.11, -0.45, -0.11],\n",
       "       [-0.44, -0.52, -0.29],\n",
       "       [ 0.19, -0.15,  0.5 ]], dtype=float32)"
      ]
     },
     "execution_count": 11,
     "metadata": {},
     "output_type": "execute_result"
    }
   ],
   "source": [
    "weights1"
   ]
  },
  {
   "cell_type": "code",
   "execution_count": 12,
   "metadata": {},
   "outputs": [
    {
     "data": {
      "text/plain": [
       "array([[-0.28,  0.29],\n",
       "       [ 0.5 ,  0.37],\n",
       "       [ 0.2 , -0.25]], dtype=float32)"
      ]
     },
     "execution_count": 12,
     "metadata": {},
     "output_type": "execute_result"
    }
   ],
   "source": [
    "weights2"
   ]
  },
  {
   "cell_type": "code",
   "execution_count": 13,
   "metadata": {},
   "outputs": [
    {
     "data": {
      "text/plain": [
       "array([[ 0.42, -0.47, -0.59],\n",
       "       [-0.66, -0.62,  0.22]], dtype=float32)"
      ]
     },
     "execution_count": 13,
     "metadata": {},
     "output_type": "execute_result"
    }
   ],
   "source": [
    "weights3"
   ]
  },
  {
   "cell_type": "code",
   "execution_count": 14,
   "metadata": {},
   "outputs": [
    {
     "data": {
      "text/plain": [
       "Text(0.5, 1.0, 'Ksize = (2x3)')"
      ]
     },
     "execution_count": 14,
     "metadata": {},
     "output_type": "execute_result"
    },
    {
     "data": {
      "image/png": "[encoded data removed]",
      "text/plain": [
       "<Figure size 576x576 with 3 Axes>"
      ]
     },
     "metadata": {
      "needs_background": "light"
     },
     "output_type": "display_data"
    }
   ],
   "source": [
    "rows, cols = 3, 1\n",
    "fig, axs = plt.subplots(rows, cols, figsize=(8,8))\n",
    "sns.heatmap(conv_out1, annot=True, linewidth=1, cmap='cividis', square=True, cbar=False, ax=axs[0])\n",
    "sns.heatmap(conv_out2, annot=True, linewidth=1, cmap='cividis', square=True, cbar=False, ax=axs[1])\n",
    "sns.heatmap(conv_out3, annot=True, linewidth=1, cmap='cividis', square=True, cbar=False, ax=axs[2])\n",
    "axs[0].set_title(\"Ksize = (3x3)\")\n",
    "axs[1].set_title(\"Ksize = (3x2)\")\n",
    "axs[2].set_title(\"Ksize = (2x3)\")"
   ]
  },
  {
   "cell_type": "code",
   "execution_count": 15,
   "metadata": {},
   "outputs": [
    {
     "data": {
      "text/plain": [
       "array([[0.47, 0.55, 0.56, 0.98, 0.31],\n",
       "       [0.21, 0.63, 0.55, 0.86, 0.27],\n",
       "       [0.12, 0.67, 0.51, 0.78, 0.24]], dtype=float32)"
      ]
     },
     "execution_count": 15,
     "metadata": {},
     "output_type": "execute_result"
    }
   ],
   "source": [
    "img"
   ]
  },
  {
   "cell_type": "code",
   "execution_count": 16,
   "metadata": {
    "scrolled": true
   },
   "outputs": [
    {
     "data": {
      "text/plain": [
       "array([[0.47, 0.55, 0.56],\n",
       "       [0.21, 0.63, 0.55],\n",
       "       [0.12, 0.67, 0.51]], dtype=float32)"
      ]
     },
     "metadata": {},
     "output_type": "display_data"
    },
    {
     "data": {
      "text/plain": [
       "array([[0.55, 0.56, 0.98],\n",
       "       [0.63, 0.55, 0.86],\n",
       "       [0.67, 0.51, 0.78]], dtype=float32)"
      ]
     },
     "metadata": {},
     "output_type": "display_data"
    },
    {
     "data": {
      "text/plain": [
       "array([[0.56, 0.98, 0.31],\n",
       "       [0.55, 0.86, 0.27],\n",
       "       [0.51, 0.78, 0.24]], dtype=float32)"
      ]
     },
     "metadata": {},
     "output_type": "display_data"
    }
   ],
   "source": [
    "c1, c2, c3 = img[:,0:3], img[:,1:4], img[:,2:]\n",
    "display(c1,c2,c3)"
   ]
  },
  {
   "cell_type": "code",
   "execution_count": 17,
   "metadata": {},
   "outputs": [
    {
     "data": {
      "text/plain": [
       "array([-0.66, -0.67, -1.09], dtype=float32)"
      ]
     },
     "metadata": {},
     "output_type": "display_data"
    },
    {
     "data": {
      "text/plain": [
       "array([[-0.66, -0.67, -1.09]], dtype=float32)"
      ]
     },
     "execution_count": 17,
     "metadata": {},
     "output_type": "execute_result"
    }
   ],
   "source": [
    "s1 = weights1*c1\n",
    "s2 = weights1*c2\n",
    "s3 = weights1*c3\n",
    "res = np.array([s1.sum(), s2.sum(), s3.sum()])\n",
    "display(res)\n",
    "conv_out1"
   ]
  },
  {
   "cell_type": "code",
   "execution_count": 18,
   "metadata": {},
   "outputs": [
    {
     "data": {
      "text/plain": [
       "<AxesSubplot:>"
      ]
     },
     "execution_count": 18,
     "metadata": {},
     "output_type": "execute_result"
    },
    {
     "data": {
      "image/png": "[encoded data removed]",
      "text/plain": [
       "<Figure size 432x288 with 1 Axes>"
      ]
     },
     "metadata": {
      "needs_background": "light"
     },
     "output_type": "display_data"
    }
   ],
   "source": [
    "sns.heatmap(conv_out1, annot=True, linewidth=1, cmap='cividis', square=True, cbar=False)"
   ]
  },
  {
   "cell_type": "code",
   "execution_count": 19,
   "metadata": {},
   "outputs": [
    {
     "data": {
      "text/plain": [
       "array([[0.47, 0.55],\n",
       "       [0.21, 0.63],\n",
       "       [0.12, 0.67]], dtype=float32)"
      ]
     },
     "metadata": {},
     "output_type": "display_data"
    },
    {
     "data": {
      "text/plain": [
       "array([[0.55, 0.56],\n",
       "       [0.63, 0.55],\n",
       "       [0.67, 0.51]], dtype=float32)"
      ]
     },
     "metadata": {},
     "output_type": "display_data"
    },
    {
     "data": {
      "text/plain": [
       "array([[0.56, 0.98],\n",
       "       [0.55, 0.86],\n",
       "       [0.51, 0.78]], dtype=float32)"
      ]
     },
     "metadata": {},
     "output_type": "display_data"
    },
    {
     "data": {
      "text/plain": [
       "array([[0.98, 0.31],\n",
       "       [0.86, 0.27],\n",
       "       [0.78, 0.24]], dtype=float32)"
      ]
     },
     "metadata": {},
     "output_type": "display_data"
    }
   ],
   "source": [
    "c1, c2, c3, c4 = img[:,0:2], img[:,1:3], img[:,2:4], img[:,3:]\n",
    "display(c1,c2,c3,c4)"
   ]
  },
  {
   "cell_type": "code",
   "execution_count": 20,
   "metadata": {},
   "outputs": [
    {
     "data": {
      "text/plain": [
       "array([0.22, 0.53, 0.62, 0.45], dtype=float32)"
      ]
     },
     "metadata": {},
     "output_type": "display_data"
    },
    {
     "data": {
      "text/plain": [
       "array([[0.22, 0.53, 0.62, 0.45]], dtype=float32)"
      ]
     },
     "execution_count": 20,
     "metadata": {},
     "output_type": "execute_result"
    }
   ],
   "source": [
    "s1 = weights2*c1\n",
    "s2 = weights2*c2\n",
    "s3 = weights2*c3\n",
    "s4 = weights2*c4\n",
    "res = np.array([s1.sum(), s2.sum(), s3.sum(), s4.sum()])\n",
    "display(res)\n",
    "conv_out2"
   ]
  },
  {
   "cell_type": "code",
   "execution_count": 21,
   "metadata": {},
   "outputs": [
    {
     "data": {
      "text/plain": [
       "<AxesSubplot:>"
      ]
     },
     "execution_count": 21,
     "metadata": {},
     "output_type": "execute_result"
    },
    {
     "data": {
      "image/png": "[encoded data removed]",
      "text/plain": [
       "<Figure size 432x288 with 1 Axes>"
      ]
     },
     "metadata": {
      "needs_background": "light"
     },
     "output_type": "display_data"
    }
   ],
   "source": [
    "sns.heatmap(conv_out2, annot=True, linewidth=1, cmap='cividis', square=True, cbar=False)"
   ]
  },
  {
   "cell_type": "code",
   "execution_count": 22,
   "metadata": {},
   "outputs": [],
   "source": [
    "c1, c2, c3 = img[0:2,0:3], img[0:2,1:4],img[0:2:,2:]\n",
    "c4, c5, c6 = img[1:, 0:3], img[1:,1:4], img[1:,2:]"
   ]
  },
  {
   "cell_type": "code",
   "execution_count": 23,
   "metadata": {},
   "outputs": [
    {
     "data": {
      "text/plain": [
       "array([[-0.8 , -1.17, -1.24],\n",
       "       [-0.9 , -1.08, -1.1 ]], dtype=float32)"
      ]
     },
     "metadata": {},
     "output_type": "display_data"
    },
    {
     "data": {
      "text/plain": [
       "array([[-0.8 , -1.17, -1.24],\n",
       "       [-0.9 , -1.08, -1.1 ]], dtype=float32)"
      ]
     },
     "execution_count": 23,
     "metadata": {},
     "output_type": "execute_result"
    }
   ],
   "source": [
    "s1 = weights3*c1\n",
    "s2 = weights3*c2\n",
    "s3 = weights3*c3\n",
    "s4 = weights3*c4\n",
    "s5 = weights3*c5\n",
    "s6 = weights3*c6\n",
    "res = np.array([[s1.sum(), s2.sum(),s3.sum()],\n",
    "                [s4.sum(), s5.sum(),s6.sum()]])\n",
    "display(res)\n",
    "conv_out3"
   ]
  },
  {
   "cell_type": "code",
   "execution_count": 24,
   "metadata": {},
   "outputs": [
    {
     "data": {
      "text/plain": [
       "<AxesSubplot:>"
      ]
     },
     "execution_count": 24,
     "metadata": {},
     "output_type": "execute_result"
    },
    {
     "data": {
      "image/png": "[encoded data removed]",
      "text/plain": [
       "<Figure size 432x288 with 1 Axes>"
      ]
     },
     "metadata": {
      "needs_background": "light"
     },
     "output_type": "display_data"
    }
   ],
   "source": [
    "sns.heatmap(conv_out3, annot=True, linewidth=1, cmap='cividis', square=True, cbar=False)"
   ]
  },
  {
   "cell_type": "markdown",
   "metadata": {},
   "source": [
    "* Strides"
   ]
  },
  {
   "cell_type": "markdown",
   "metadata": {},
   "source": [
    "stride - два числа (1,1) по умолчанию  \n",
    "первое число - \"перешагивание\" через столбцы  \n",
    "второе число - \"перешагивание\" через строки "
   ]
  },
  {
   "cell_type": "code",
   "execution_count": 25,
   "metadata": {},
   "outputs": [],
   "source": [
    "conv1 = keras.layers.Conv2D(filters=1,kernel_size=3,strides=(1, 2))\n",
    "conv2 = keras.layers.Conv2D(filters=1,kernel_size=3,strides=(2, 1))"
   ]
  },
  {
   "cell_type": "code",
   "execution_count": 26,
   "metadata": {},
   "outputs": [],
   "source": [
    "conv_out1, weights1 = convolution_result(conv1,img4process)\n",
    "conv_out2, weights2 = convolution_result(conv2,img4process)"
   ]
  },
  {
   "cell_type": "code",
   "execution_count": 27,
   "metadata": {},
   "outputs": [
    {
     "data": {
      "text/plain": [
       "array([[-0.14, -0.53, -0.34],\n",
       "       [ 0.41,  0.27, -0.04],\n",
       "       [-0.17, -0.36, -0.12]], dtype=float32)"
      ]
     },
     "execution_count": 27,
     "metadata": {},
     "output_type": "execute_result"
    }
   ],
   "source": [
    "weights1"
   ]
  },
  {
   "cell_type": "code",
   "execution_count": 28,
   "metadata": {},
   "outputs": [
    {
     "data": {
      "text/plain": [
       "array([[0.47, 0.55, 0.56, 0.98, 0.31],\n",
       "       [0.21, 0.63, 0.55, 0.86, 0.27],\n",
       "       [0.12, 0.67, 0.51, 0.78, 0.24]], dtype=float32)"
      ]
     },
     "execution_count": 28,
     "metadata": {},
     "output_type": "execute_result"
    }
   ],
   "source": [
    "img"
   ]
  },
  {
   "cell_type": "code",
   "execution_count": 29,
   "metadata": {},
   "outputs": [],
   "source": [
    "# Пропускаем второй столбец"
   ]
  },
  {
   "cell_type": "code",
   "execution_count": 30,
   "metadata": {},
   "outputs": [
    {
     "data": {
      "text/plain": [
       "array([[0.47, 0.55, 0.56],\n",
       "       [0.21, 0.63, 0.55],\n",
       "       [0.12, 0.67, 0.51]], dtype=float32)"
      ]
     },
     "metadata": {},
     "output_type": "display_data"
    },
    {
     "data": {
      "text/plain": [
       "array([[0.56, 0.98, 0.31],\n",
       "       [0.55, 0.86, 0.27],\n",
       "       [0.51, 0.78, 0.24]], dtype=float32)"
      ]
     },
     "metadata": {},
     "output_type": "display_data"
    }
   ],
   "source": [
    "c1, c2 = img[:,0:3], img[:,2:]\n",
    "display(c1,c2)"
   ]
  },
  {
   "cell_type": "code",
   "execution_count": 31,
   "metadata": {},
   "outputs": [
    {
     "data": {
      "text/plain": [
       "array([-0.63, -0.66], dtype=float32)"
      ]
     },
     "metadata": {},
     "output_type": "display_data"
    },
    {
     "data": {
      "text/plain": [
       "array([[-0.63, -0.66]], dtype=float32)"
      ]
     },
     "execution_count": 31,
     "metadata": {},
     "output_type": "execute_result"
    }
   ],
   "source": [
    "s1 = weights1*c1\n",
    "s2 = weights1*c2\n",
    "res = np.array([s1.sum(), s2.sum()])\n",
    "display(res)\n",
    "conv_out1"
   ]
  },
  {
   "cell_type": "code",
   "execution_count": 32,
   "metadata": {},
   "outputs": [],
   "source": [
    "# Не хватает строк, для пропуска"
   ]
  },
  {
   "cell_type": "code",
   "execution_count": 33,
   "metadata": {},
   "outputs": [
    {
     "data": {
      "text/plain": [
       "array([[ 0.03,  0.32,  0.36],\n",
       "       [ 0.51,  0.27,  0.56],\n",
       "       [ 0.52,  0.12, -0.5 ]], dtype=float32)"
      ]
     },
     "execution_count": 33,
     "metadata": {},
     "output_type": "execute_result"
    }
   ],
   "source": [
    "weights2"
   ]
  },
  {
   "cell_type": "code",
   "execution_count": 34,
   "metadata": {},
   "outputs": [
    {
     "data": {
      "text/plain": [
       "array([[0.47, 0.55, 0.56, 0.98, 0.31],\n",
       "       [0.21, 0.63, 0.55, 0.86, 0.27],\n",
       "       [0.12, 0.67, 0.51, 0.78, 0.24]], dtype=float32)"
      ]
     },
     "execution_count": 34,
     "metadata": {},
     "output_type": "execute_result"
    }
   ],
   "source": [
    "img"
   ]
  },
  {
   "cell_type": "code",
   "execution_count": 35,
   "metadata": {},
   "outputs": [
    {
     "data": {
      "text/plain": [
       "array([[0.47, 0.55, 0.56],\n",
       "       [0.21, 0.63, 0.55],\n",
       "       [0.12, 0.67, 0.51]], dtype=float32)"
      ]
     },
     "metadata": {},
     "output_type": "display_data"
    },
    {
     "data": {
      "text/plain": [
       "array([[0.55, 0.56, 0.98],\n",
       "       [0.63, 0.55, 0.86],\n",
       "       [0.67, 0.51, 0.78]], dtype=float32)"
      ]
     },
     "metadata": {},
     "output_type": "display_data"
    },
    {
     "data": {
      "text/plain": [
       "array([[0.56, 0.98, 0.31],\n",
       "       [0.55, 0.86, 0.27],\n",
       "       [0.51, 0.78, 0.24]], dtype=float32)"
      ]
     },
     "metadata": {},
     "output_type": "display_data"
    }
   ],
   "source": [
    "c1, c2, c3 = img[:,0:3], img[:,1:4], img[:,2:]\n",
    "display(c1,c2,c3)"
   ]
  },
  {
   "cell_type": "code",
   "execution_count": 36,
   "metadata": {},
   "outputs": [
    {
     "data": {
      "text/plain": [
       "array([[0.86, 1.51, 1.35]], dtype=float32)"
      ]
     },
     "metadata": {},
     "output_type": "display_data"
    },
    {
     "data": {
      "text/plain": [
       "array([[0.86, 1.51, 1.35]], dtype=float32)"
      ]
     },
     "execution_count": 36,
     "metadata": {},
     "output_type": "execute_result"
    }
   ],
   "source": [
    "s1 = weights2*c1\n",
    "s2 = weights2*c2\n",
    "s3 = weights2*c3\n",
    "res = np.array([[s1.sum(), s2.sum(), s3.sum()]])\n",
    "display(res)\n",
    "conv_out2"
   ]
  },
  {
   "cell_type": "markdown",
   "metadata": {},
   "source": [
    "* Padding"
   ]
  },
  {
   "cell_type": "markdown",
   "metadata": {},
   "source": [
    "valid - выполняет обычеую свертку в соответствии с размером свертки  \n",
    "same - возвращает изображение такого же размера, добавляя к границам нули"
   ]
  },
  {
   "cell_type": "code",
   "execution_count": 37,
   "metadata": {},
   "outputs": [],
   "source": [
    "conv11 = keras.layers.Conv2D(filters=1,kernel_size=3, strides=(1, 1), padding=\"valid\")\n",
    "conv12 = keras.layers.Conv2D(filters=1,kernel_size=3, strides=(1, 1), padding=\"same\")"
   ]
  },
  {
   "cell_type": "code",
   "execution_count": 38,
   "metadata": {},
   "outputs": [],
   "source": [
    "conv_out11, weights11 = convolution_result(conv11,img4process)\n",
    "conv_out12, weights12 = convolution_result(conv12,img4process)"
   ]
  },
  {
   "cell_type": "code",
   "execution_count": 39,
   "metadata": {},
   "outputs": [
    {
     "data": {
      "text/plain": [
       "array([[-0.55, -0.23, -0.47]], dtype=float32)"
      ]
     },
     "execution_count": 39,
     "metadata": {},
     "output_type": "execute_result"
    }
   ],
   "source": [
    "conv_out11"
   ]
  },
  {
   "cell_type": "code",
   "execution_count": 40,
   "metadata": {},
   "outputs": [
    {
     "data": {
      "text/plain": [
       "array([-0.55, -0.23, -0.47], dtype=float32)"
      ]
     },
     "metadata": {},
     "output_type": "display_data"
    },
    {
     "data": {
      "text/plain": [
       "array([[-0.55, -0.23, -0.47]], dtype=float32)"
      ]
     },
     "execution_count": 40,
     "metadata": {},
     "output_type": "execute_result"
    }
   ],
   "source": [
    "c1, c2, c3 = img[:,0:3], img[:,1:4], img[:,2:]\n",
    "s1 = weights11*c1\n",
    "s2 = weights11*c2\n",
    "s3 = weights11*c3\n",
    "res = np.array([s1.sum(), s2.sum(), s3.sum()])\n",
    "display(res)\n",
    "conv_out11"
   ]
  },
  {
   "cell_type": "code",
   "execution_count": 41,
   "metadata": {},
   "outputs": [
    {
     "data": {
      "text/plain": [
       "array([[0.47, 0.55, 0.56, 0.98, 0.31],\n",
       "       [0.21, 0.63, 0.55, 0.86, 0.27],\n",
       "       [0.12, 0.67, 0.51, 0.78, 0.24]], dtype=float32)"
      ]
     },
     "execution_count": 41,
     "metadata": {},
     "output_type": "execute_result"
    }
   ],
   "source": [
    "img"
   ]
  },
  {
   "cell_type": "code",
   "execution_count": 42,
   "metadata": {},
   "outputs": [],
   "source": [
    "# Первая строка\n",
    "c11 = np.array([[0, 0,    0],\n",
    "                [0, 0.47, 0.55],\n",
    "                [0, 0.21, 0.63]])\n",
    "\n",
    "c12 = np.array([[0,    0,    0],\n",
    "                [0.47, 0.55, 0.56],\n",
    "                [0.21, 0.63, 0.55]])\n",
    "\n",
    "c13 = np.array([[0,    0,    0],\n",
    "                [0.55, 0.56, 0.98],\n",
    "                [0.63, 0.55, 0.86]])\n",
    "\n",
    "c14 = np.array([[0,    0,    0],\n",
    "                [0.56, 0.98, 0.31],\n",
    "                [0.55, 0.86, 0.27]]),\n",
    "\n",
    "c15 = np.array([[0,    0,    0],\n",
    "                [0.98, 0.31, 0],\n",
    "                [0.86, 0.27, 0]]),\n",
    "# Вторая строка\n",
    "c21 = np.array([[0, 0.47, 0.55],\n",
    "                [0, 0.21, 0.63],\n",
    "                [0, 0.12, 0.67]]),\n",
    "\n",
    "c22 = np.array([[0.47, 0.55, 0.56],\n",
    "                [0.21, 0.63, 0.55],\n",
    "                [0.12, 0.67, 0.51]]),\n",
    "\n",
    "c23 = np.array([[0.55, 0.56, 0.98],\n",
    "                [0.63, 0.55, 0.86],\n",
    "                [0.67, 0.51, 0.78]]),\n",
    "\n",
    "c24 = np.array([[0.56, 0.98, 0.31],\n",
    "                [0.55, 0.86, 0.27],\n",
    "                [0.51, 0.78, 0.24]]),\n",
    "\n",
    "c25 = np.array([[0.98, 0.31, 0],\n",
    "                [0.86, 0.27, 0],\n",
    "                [0.78, 0.24, 0]])\n",
    "# Третья строка\n",
    "c31 = np.array([[0, 0.21, 0.63],\n",
    "                [0, 0.12, 0.67],\n",
    "                [0, 0,    0]]),\n",
    "\n",
    "c32 = np.array([[0.21, 0.63, 0.55],\n",
    "                [0.12, 0.67, 0.51],\n",
    "                [0,    0,    0]]),\n",
    "\n",
    "c33 = np.array([[0.63, 0.55, 0.86],\n",
    "                [0.67, 0.51, 0.78],\n",
    "                [0,    0,    0]]),\n",
    "\n",
    "c34 = np.array([[0.55, 0.86, 0.27],\n",
    "                [0.51, 0.78, 0.24],\n",
    "                [0,    0,    0]]),\n",
    "\n",
    "c35 = np.array([[0.86, 0.27, 0],\n",
    "                [0.78, 0.24, 0],\n",
    "                [0,    0,    0]])"
   ]
  },
  {
   "cell_type": "code",
   "execution_count": 43,
   "metadata": {},
   "outputs": [],
   "source": [
    "s11 = weights12*c11\n",
    "s12 = weights12*c12\n",
    "s13 = weights12*c13\n",
    "s14 = weights12*c14\n",
    "s15 = weights12*c15\n",
    "\n",
    "s21 = weights12*c21\n",
    "s22 = weights12*c22\n",
    "s23 = weights12*c23\n",
    "s24 = weights12*c24\n",
    "s25 = weights12*c25\n",
    "\n",
    "s31 = weights12*c31\n",
    "s32 = weights12*c32\n",
    "s33 = weights12*c33\n",
    "s34 = weights12*c34\n",
    "s35 = weights12*c35"
   ]
  },
  {
   "cell_type": "code",
   "execution_count": 44,
   "metadata": {},
   "outputs": [],
   "source": [
    "res = np.array([[s11.sum(), s12.sum(), s13.sum(), s14.sum(), s15.sum()],\n",
    "                [s21.sum(), s22.sum(), s23.sum(), s24.sum(), s25.sum()],\n",
    "                [s31.sum(), s32.sum(), s33.sum(), s34.sum(), s35.sum()]])"
   ]
  },
  {
   "cell_type": "code",
   "execution_count": 45,
   "metadata": {},
   "outputs": [
    {
     "data": {
      "text/plain": [
       "array([[0.26, 0.38, 0.96, 0.23, 0.79],\n",
       "       [0.73, 0.8 , 1.73, 1.15, 1.43],\n",
       "       [0.52, 0.77, 1.46, 1.12, 1.03]])"
      ]
     },
     "metadata": {},
     "output_type": "display_data"
    },
    {
     "data": {
      "text/plain": [
       "array([[0.26, 0.38, 0.96, 0.23, 0.79],\n",
       "       [0.73, 0.8 , 1.73, 1.15, 1.44],\n",
       "       [0.52, 0.77, 1.46, 1.12, 1.03]], dtype=float32)"
      ]
     },
     "execution_count": 45,
     "metadata": {},
     "output_type": "execute_result"
    }
   ],
   "source": [
    "display(res)\n",
    "conv_out12"
   ]
  },
  {
   "cell_type": "code",
   "execution_count": null,
   "metadata": {},
   "outputs": [],
   "source": []
  }
 ],
 "metadata": {
  "kernelspec": {
   "display_name": "Python 3",
   "language": "python",
   "name": "python3"
  },
  "language_info": {
   "codemirror_mode": {
    "name": "ipython",
    "version": 3
   },
   "file_extension": ".py",
   "mimetype": "text/x-python",
   "name": "python",
   "nbconvert_exporter": "python",
   "pygments_lexer": "ipython3",
   "version": "3.7.5"
  }
 },
 "nbformat": 4,
 "nbformat_minor": 4
}
