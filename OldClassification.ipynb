{
 "cells": [
  {
   "cell_type": "code",
   "execution_count": 1,
   "metadata": {},
   "outputs": [],
   "source": [
    "import pathlib\n",
    "\n",
    "import numpy as np\n",
    "import pandas as pd\n",
    "import matplotlib.pyplot as plt\n",
    "import seaborn as sns\n",
    "import tensorflow as tf\n",
    "from tensorflow import feature_column\n",
    "from tensorflow.keras import layers\n",
    "from sklearn.model_selection import train_test_split\n",
    "\n",
    "import warnings\n",
    "warnings.filterwarnings(\"ignore\")"
   ]
  },
  {
   "cell_type": "code",
   "execution_count": 2,
   "metadata": {},
   "outputs": [],
   "source": [
    "plt.style.use('ggplot')"
   ]
  },
  {
   "cell_type": "code",
   "execution_count": 3,
   "metadata": {},
   "outputs": [],
   "source": [
    "def freq_grouped_values(M: np.array, n_intervals: int) -> pd.DataFrame:\n",
    "    \"\"\"\n",
    "    Таблица частот группированной выборки\n",
    "    \"\"\"\n",
    "    df = pd.DataFrame(M)\n",
    "    start = round(min(M))\n",
    "    w = max(M)-min(M)\n",
    "    b = round(w/n_intervals)\n",
    "    end = round(max(M))\n",
    "    L = len(M)\n",
    "    df = df.groupby(pd.cut(M, np.arange(start,end+b,b))).agg(['count'])\n",
    "    df.columns = df.columns.get_level_values(0)\n",
    "    df.columns = ['Freq']\n",
    "    mid_points = np.arange(start+b/2,end+b/2,b)\n",
    "    df['Mid_points'] = mid_points\n",
    "    df['Cum_freq'] = df['Freq'].cumsum()\n",
    "    df['Rel_freq'] = df['Freq'] / L\n",
    "    df['Rel_c_freq'] = df['Cum_freq'] / L\n",
    "    df = df[['Mid_points','Freq','Cum_freq','Rel_freq','Rel_c_freq']]\n",
    "    return df.round(4)"
   ]
  },
  {
   "cell_type": "markdown",
   "metadata": {},
   "source": [
    "#### Олды на месте?\n",
    "Сгенерируем данные. Возраст от 0 до 100. Если возраст больше или равен 25 - человек однозначно олд.\n",
    "Задача - разбить возраст на интервалы, обучить сеть, которя обнаруживает олдов."
   ]
  },
  {
   "cell_type": "code",
   "execution_count": 4,
   "metadata": {},
   "outputs": [],
   "source": [
    "age = np.random.randint(0,100,1000)"
   ]
  },
  {
   "cell_type": "code",
   "execution_count": 5,
   "metadata": {},
   "outputs": [
    {
     "data": {
      "text/plain": [
       "<AxesSubplot:ylabel='Count'>"
      ]
     },
     "execution_count": 5,
     "metadata": {},
     "output_type": "execute_result"
    },
    {
     "data": {
      "image/png": "[encoded data removed]",
      "text/plain": [
       "<Figure size 432x288 with 1 Axes>"
      ]
     },
     "metadata": {},
     "output_type": "display_data"
    }
   ],
   "source": [
    "sns.histplot(age, color='grey')"
   ]
  },
  {
   "cell_type": "code",
   "execution_count": 6,
   "metadata": {},
   "outputs": [],
   "source": [
    "df = pd.DataFrame({\"Age\": age})"
   ]
  },
  {
   "cell_type": "code",
   "execution_count": 7,
   "metadata": {},
   "outputs": [],
   "source": [
    "df['IsOld'] = df.Age.apply(lambda x: x>=25) "
   ]
  },
  {
   "cell_type": "code",
   "execution_count": 8,
   "metadata": {},
   "outputs": [
    {
     "data": {
      "text/html": [
       "<div>\n",
       "<style scoped>\n",
       "    .dataframe tbody tr th:only-of-type {\n",
       "        vertical-align: middle;\n",
       "    }\n",
       "\n",
       "    .dataframe tbody tr th {\n",
       "        vertical-align: top;\n",
       "    }\n",
       "\n",
       "    .dataframe thead th {\n",
       "        text-align: right;\n",
       "    }\n",
       "</style>\n",
       "<table border=\"1\" class=\"dataframe\">\n",
       "  <thead>\n",
       "    <tr style=\"text-align: right;\">\n",
       "      <th></th>\n",
       "      <th>Age</th>\n",
       "      <th>IsOld</th>\n",
       "    </tr>\n",
       "  </thead>\n",
       "  <tbody>\n",
       "    <tr>\n",
       "      <th>0</th>\n",
       "      <td>47</td>\n",
       "      <td>True</td>\n",
       "    </tr>\n",
       "    <tr>\n",
       "      <th>1</th>\n",
       "      <td>92</td>\n",
       "      <td>True</td>\n",
       "    </tr>\n",
       "    <tr>\n",
       "      <th>2</th>\n",
       "      <td>41</td>\n",
       "      <td>True</td>\n",
       "    </tr>\n",
       "    <tr>\n",
       "      <th>3</th>\n",
       "      <td>80</td>\n",
       "      <td>True</td>\n",
       "    </tr>\n",
       "    <tr>\n",
       "      <th>4</th>\n",
       "      <td>6</td>\n",
       "      <td>False</td>\n",
       "    </tr>\n",
       "  </tbody>\n",
       "</table>\n",
       "</div>"
      ],
      "text/plain": [
       "   Age  IsOld\n",
       "0   47   True\n",
       "1   92   True\n",
       "2   41   True\n",
       "3   80   True\n",
       "4    6  False"
      ]
     },
     "execution_count": 8,
     "metadata": {},
     "output_type": "execute_result"
    }
   ],
   "source": [
    "df.head(5)"
   ]
  },
  {
   "cell_type": "code",
   "execution_count": 9,
   "metadata": {},
   "outputs": [],
   "source": [
    "ds = tf.data.Dataset.from_tensor_slices(({\"Age\": df.Age}, df.IsOld))\n",
    "ds = ds.batch(8)"
   ]
  },
  {
   "cell_type": "code",
   "execution_count": 10,
   "metadata": {},
   "outputs": [],
   "source": [
    "# На сколько интервалов разбить выборку\n",
    "n_intervals = 7\n",
    "# Размах\n",
    "w = df.Age.max() - df.Age.min()\n",
    "# длина интервала\n",
    "b = round(w/n_intervals)\n",
    "start = round(min(df.Age))\n",
    "end = round(max(df.Age))"
   ]
  },
  {
   "cell_type": "code",
   "execution_count": 11,
   "metadata": {},
   "outputs": [],
   "source": [
    "T = freq_grouped_values(df.Age,n_intervals)"
   ]
  },
  {
   "cell_type": "code",
   "execution_count": 12,
   "metadata": {},
   "outputs": [
    {
     "data": {
      "text/html": [
       "<div>\n",
       "<style scoped>\n",
       "    .dataframe tbody tr th:only-of-type {\n",
       "        vertical-align: middle;\n",
       "    }\n",
       "\n",
       "    .dataframe tbody tr th {\n",
       "        vertical-align: top;\n",
       "    }\n",
       "\n",
       "    .dataframe thead th {\n",
       "        text-align: right;\n",
       "    }\n",
       "</style>\n",
       "<table border=\"1\" class=\"dataframe\">\n",
       "  <thead>\n",
       "    <tr style=\"text-align: right;\">\n",
       "      <th></th>\n",
       "      <th>Mid_points</th>\n",
       "      <th>Freq</th>\n",
       "      <th>Cum_freq</th>\n",
       "      <th>Rel_freq</th>\n",
       "      <th>Rel_c_freq</th>\n",
       "    </tr>\n",
       "    <tr>\n",
       "      <th>Age</th>\n",
       "      <th></th>\n",
       "      <th></th>\n",
       "      <th></th>\n",
       "      <th></th>\n",
       "      <th></th>\n",
       "    </tr>\n",
       "  </thead>\n",
       "  <tbody>\n",
       "    <tr>\n",
       "      <th>(0, 14]</th>\n",
       "      <td>7.0</td>\n",
       "      <td>151</td>\n",
       "      <td>151</td>\n",
       "      <td>0.151</td>\n",
       "      <td>0.151</td>\n",
       "    </tr>\n",
       "    <tr>\n",
       "      <th>(14, 28]</th>\n",
       "      <td>21.0</td>\n",
       "      <td>151</td>\n",
       "      <td>302</td>\n",
       "      <td>0.151</td>\n",
       "      <td>0.302</td>\n",
       "    </tr>\n",
       "    <tr>\n",
       "      <th>(28, 42]</th>\n",
       "      <td>35.0</td>\n",
       "      <td>125</td>\n",
       "      <td>427</td>\n",
       "      <td>0.125</td>\n",
       "      <td>0.427</td>\n",
       "    </tr>\n",
       "    <tr>\n",
       "      <th>(42, 56]</th>\n",
       "      <td>49.0</td>\n",
       "      <td>132</td>\n",
       "      <td>559</td>\n",
       "      <td>0.132</td>\n",
       "      <td>0.559</td>\n",
       "    </tr>\n",
       "    <tr>\n",
       "      <th>(56, 70]</th>\n",
       "      <td>63.0</td>\n",
       "      <td>138</td>\n",
       "      <td>697</td>\n",
       "      <td>0.138</td>\n",
       "      <td>0.697</td>\n",
       "    </tr>\n",
       "    <tr>\n",
       "      <th>(70, 84]</th>\n",
       "      <td>77.0</td>\n",
       "      <td>145</td>\n",
       "      <td>842</td>\n",
       "      <td>0.145</td>\n",
       "      <td>0.842</td>\n",
       "    </tr>\n",
       "    <tr>\n",
       "      <th>(84, 98]</th>\n",
       "      <td>91.0</td>\n",
       "      <td>143</td>\n",
       "      <td>985</td>\n",
       "      <td>0.143</td>\n",
       "      <td>0.985</td>\n",
       "    </tr>\n",
       "    <tr>\n",
       "      <th>(98, 112]</th>\n",
       "      <td>105.0</td>\n",
       "      <td>6</td>\n",
       "      <td>991</td>\n",
       "      <td>0.006</td>\n",
       "      <td>0.991</td>\n",
       "    </tr>\n",
       "  </tbody>\n",
       "</table>\n",
       "</div>"
      ],
      "text/plain": [
       "           Mid_points  Freq  Cum_freq  Rel_freq  Rel_c_freq\n",
       "Age                                                        \n",
       "(0, 14]           7.0   151       151     0.151       0.151\n",
       "(14, 28]         21.0   151       302     0.151       0.302\n",
       "(28, 42]         35.0   125       427     0.125       0.427\n",
       "(42, 56]         49.0   132       559     0.132       0.559\n",
       "(56, 70]         63.0   138       697     0.138       0.697\n",
       "(70, 84]         77.0   145       842     0.145       0.842\n",
       "(84, 98]         91.0   143       985     0.143       0.985\n",
       "(98, 112]       105.0     6       991     0.006       0.991"
      ]
     },
     "execution_count": 12,
     "metadata": {},
     "output_type": "execute_result"
    }
   ],
   "source": [
    "T"
   ]
  },
  {
   "cell_type": "code",
   "execution_count": 13,
   "metadata": {},
   "outputs": [
    {
     "data": {
      "text/plain": [
       "Text(0.5, 1.0, 'Гистограмма частот')"
      ]
     },
     "execution_count": 13,
     "metadata": {},
     "output_type": "execute_result"
    },
    {
     "data": {
      "image/png": "[encoded data removed]",
      "text/plain": [
       "<Figure size 360x360 with 1 Axes>"
      ]
     },
     "metadata": {},
     "output_type": "display_data"
    }
   ],
   "source": [
    "fig, axes = plt.subplots(1, figsize=(5,5))\n",
    "x = np.arange(start+b,end+b,b)\n",
    "axes.bar(x=x, height=T.Freq/b, width=-13, color='grey', edgecolor='black',align='edge')\n",
    "axes.grid(True)\n",
    "axes.set_xlabel(\"x\")\n",
    "axes.set_ylabel(\"n*/2\")\n",
    "axes.set_title(\"Гистограмма частот\")"
   ]
  },
  {
   "cell_type": "code",
   "execution_count": 14,
   "metadata": {},
   "outputs": [
    {
     "data": {
      "text/plain": [
       "[14, 28, 42, 56, 70, 84, 98, 112]"
      ]
     },
     "execution_count": 14,
     "metadata": {},
     "output_type": "execute_result"
    }
   ],
   "source": [
    "boundaries = [bnd.right for bnd in T.index]\n",
    "boundaries"
   ]
  },
  {
   "cell_type": "code",
   "execution_count": 15,
   "metadata": {},
   "outputs": [],
   "source": [
    "# В tf boundaries работают по противоположному принципу - левое значение включено в интервал, правое нет\n",
    "# Поэтому, в отличие от таблицы, интервалы будут равны [0;14), [14;28). Но в целом это не страшно"
   ]
  },
  {
   "cell_type": "code",
   "execution_count": 16,
   "metadata": {},
   "outputs": [],
   "source": [
    "age = feature_column.numeric_column('Age')\n",
    "age_buckets = feature_column.bucketized_column(age, boundaries=boundaries)"
   ]
  },
  {
   "cell_type": "code",
   "execution_count": 17,
   "metadata": {},
   "outputs": [
    {
     "name": "stdout",
     "output_type": "stream",
     "text": [
      "{'Age': <tf.Tensor: shape=(8,), dtype=int64, numpy=array([47, 92, 41, 80,  6, 33, 76, 75])>}\n"
     ]
    }
   ],
   "source": [
    "for X, y in ds.take(1):\n",
    "    print(X)"
   ]
  },
  {
   "cell_type": "code",
   "execution_count": 18,
   "metadata": {},
   "outputs": [],
   "source": [
    "example = next(iter(ds))[0]"
   ]
  },
  {
   "cell_type": "code",
   "execution_count": 19,
   "metadata": {},
   "outputs": [
    {
     "data": {
      "text/plain": [
       "{'Age': <tf.Tensor: shape=(8,), dtype=int64, numpy=array([47, 92, 41, 80,  6, 33, 76, 75])>}"
      ]
     },
     "execution_count": 19,
     "metadata": {},
     "output_type": "execute_result"
    }
   ],
   "source": [
    "example"
   ]
  },
  {
   "cell_type": "code",
   "execution_count": 20,
   "metadata": {},
   "outputs": [],
   "source": [
    "feature_layer = layers.DenseFeatures(age_buckets)"
   ]
  },
  {
   "cell_type": "code",
   "execution_count": 21,
   "metadata": {},
   "outputs": [
    {
     "data": {
      "text/plain": [
       "<tf.Tensor: shape=(8, 9), dtype=float32, numpy=\n",
       "array([[0., 0., 0., 1., 0., 0., 0., 0., 0.],\n",
       "       [0., 0., 0., 0., 0., 0., 1., 0., 0.],\n",
       "       [0., 0., 1., 0., 0., 0., 0., 0., 0.],\n",
       "       [0., 0., 0., 0., 0., 1., 0., 0., 0.],\n",
       "       [1., 0., 0., 0., 0., 0., 0., 0., 0.],\n",
       "       [0., 0., 1., 0., 0., 0., 0., 0., 0.],\n",
       "       [0., 0., 0., 0., 0., 1., 0., 0., 0.],\n",
       "       [0., 0., 0., 0., 0., 1., 0., 0., 0.]], dtype=float32)>"
      ]
     },
     "execution_count": 21,
     "metadata": {},
     "output_type": "execute_result"
    }
   ],
   "source": [
    "feature_layer(example)"
   ]
  },
  {
   "cell_type": "markdown",
   "metadata": {},
   "source": [
    "#### Посмотрели, как все работает. Разобьем выборку на train/test, обучим сеть"
   ]
  },
  {
   "cell_type": "code",
   "execution_count": 22,
   "metadata": {},
   "outputs": [],
   "source": [
    "train, test = train_test_split(df,train_size=0.7,shuffle=True)"
   ]
  },
  {
   "cell_type": "code",
   "execution_count": 23,
   "metadata": {},
   "outputs": [
    {
     "data": {
      "text/html": [
       "<div>\n",
       "<style scoped>\n",
       "    .dataframe tbody tr th:only-of-type {\n",
       "        vertical-align: middle;\n",
       "    }\n",
       "\n",
       "    .dataframe tbody tr th {\n",
       "        vertical-align: top;\n",
       "    }\n",
       "\n",
       "    .dataframe thead th {\n",
       "        text-align: right;\n",
       "    }\n",
       "</style>\n",
       "<table border=\"1\" class=\"dataframe\">\n",
       "  <thead>\n",
       "    <tr style=\"text-align: right;\">\n",
       "      <th></th>\n",
       "      <th>Age</th>\n",
       "      <th>IsOld</th>\n",
       "    </tr>\n",
       "  </thead>\n",
       "  <tbody>\n",
       "    <tr>\n",
       "      <th>713</th>\n",
       "      <td>96</td>\n",
       "      <td>True</td>\n",
       "    </tr>\n",
       "    <tr>\n",
       "      <th>892</th>\n",
       "      <td>72</td>\n",
       "      <td>True</td>\n",
       "    </tr>\n",
       "    <tr>\n",
       "      <th>69</th>\n",
       "      <td>86</td>\n",
       "      <td>True</td>\n",
       "    </tr>\n",
       "    <tr>\n",
       "      <th>928</th>\n",
       "      <td>14</td>\n",
       "      <td>False</td>\n",
       "    </tr>\n",
       "    <tr>\n",
       "      <th>454</th>\n",
       "      <td>17</td>\n",
       "      <td>False</td>\n",
       "    </tr>\n",
       "  </tbody>\n",
       "</table>\n",
       "</div>"
      ],
      "text/plain": [
       "     Age  IsOld\n",
       "713   96   True\n",
       "892   72   True\n",
       "69    86   True\n",
       "928   14  False\n",
       "454   17  False"
      ]
     },
     "execution_count": 23,
     "metadata": {},
     "output_type": "execute_result"
    }
   ],
   "source": [
    "train.head()"
   ]
  },
  {
   "cell_type": "code",
   "execution_count": 24,
   "metadata": {},
   "outputs": [],
   "source": [
    "train_ds = tf.data.Dataset.from_tensor_slices(({\"Age\": train.Age}, train.IsOld))\n",
    "train_ds = train_ds.batch(8)\n",
    "test_ds = tf.data.Dataset.from_tensor_slices(({\"Age\": test.Age}, test.IsOld))\n",
    "test_ds = test_ds.batch(1)"
   ]
  },
  {
   "cell_type": "code",
   "execution_count": 25,
   "metadata": {},
   "outputs": [],
   "source": [
    "# Это даже не сеть, а один нейрон. Но больше не надо и даже вредно"
   ]
  },
  {
   "cell_type": "code",
   "execution_count": 26,
   "metadata": {},
   "outputs": [],
   "source": [
    "inputs = {}\n",
    "inputs[\"Age\"] = tf.keras.Input(shape=(1), name=\"input\")\n",
    "x = feature_layer(inputs)\n",
    "out = tf.keras.layers.Dense(1)(x)\n",
    "model = tf.keras.Model(inputs=inputs, outputs=out)"
   ]
  },
  {
   "cell_type": "code",
   "execution_count": 27,
   "metadata": {},
   "outputs": [
    {
     "data": {
      "image/png": "[encoded data removed]",
      "text/plain": [
       "<IPython.core.display.Image object>"
      ]
     },
     "execution_count": 27,
     "metadata": {},
     "output_type": "execute_result"
    }
   ],
   "source": [
    "tf.keras.utils.plot_model(model)"
   ]
  },
  {
   "cell_type": "code",
   "execution_count": 28,
   "metadata": {},
   "outputs": [],
   "source": [
    "model.compile(\n",
    "    loss=tf.losses.BinaryCrossentropy(),\n",
    "    optimizer=tf.keras.optimizers.SGD(),\n",
    "    metrics=tf.keras.metrics.BinaryAccuracy())"
   ]
  },
  {
   "cell_type": "code",
   "execution_count": 29,
   "metadata": {},
   "outputs": [
    {
     "name": "stdout",
     "output_type": "stream",
     "text": [
      "Epoch 1/25\n",
      "88/88 [==============================] - 0s 4ms/step - loss: 2.7093 - binary_accuracy: 0.6229 - val_loss: 2.0441 - val_binary_accuracy: 0.7500\n",
      "Epoch 2/25\n",
      "88/88 [==============================] - 0s 3ms/step - loss: 2.1436 - binary_accuracy: 0.7729 - val_loss: 1.9458 - val_binary_accuracy: 0.8500\n",
      "Epoch 3/25\n",
      "88/88 [==============================] - 0s 3ms/step - loss: 2.0855 - binary_accuracy: 0.8514 - val_loss: 1.9044 - val_binary_accuracy: 0.8500\n",
      "Epoch 4/25\n",
      "88/88 [==============================] - 0s 3ms/step - loss: 2.0557 - binary_accuracy: 0.8514 - val_loss: 1.8840 - val_binary_accuracy: 0.8500\n",
      "Epoch 5/25\n",
      "88/88 [==============================] - 0s 3ms/step - loss: 2.0444 - binary_accuracy: 0.8514 - val_loss: 1.8830 - val_binary_accuracy: 0.8500\n",
      "Epoch 6/25\n",
      "88/88 [==============================] - 0s 3ms/step - loss: 2.0425 - binary_accuracy: 0.8514 - val_loss: 1.8831 - val_binary_accuracy: 0.8500\n",
      "Epoch 7/25\n",
      "88/88 [==============================] - 0s 3ms/step - loss: 2.0423 - binary_accuracy: 0.8514 - val_loss: 1.8832 - val_binary_accuracy: 0.8500\n",
      "Epoch 8/25\n",
      "88/88 [==============================] - 0s 3ms/step - loss: 2.0424 - binary_accuracy: 0.8514 - val_loss: 1.8832 - val_binary_accuracy: 0.8500\n",
      "Epoch 9/25\n",
      "88/88 [==============================] - 0s 3ms/step - loss: 2.0425 - binary_accuracy: 0.8514 - val_loss: 1.8832 - val_binary_accuracy: 0.8500\n",
      "Epoch 10/25\n",
      "88/88 [==============================] - 0s 3ms/step - loss: 2.0425 - binary_accuracy: 0.8514 - val_loss: 1.8832 - val_binary_accuracy: 0.8500\n",
      "Epoch 11/25\n",
      "88/88 [==============================] - 0s 3ms/step - loss: 2.0425 - binary_accuracy: 0.8514 - val_loss: 1.8832 - val_binary_accuracy: 0.8500\n",
      "Epoch 12/25\n",
      "88/88 [==============================] - 0s 3ms/step - loss: 2.0425 - binary_accuracy: 0.8514 - val_loss: 1.8832 - val_binary_accuracy: 0.8500\n",
      "Epoch 13/25\n",
      "88/88 [==============================] - 0s 3ms/step - loss: 2.0425 - binary_accuracy: 0.8514 - val_loss: 1.8832 - val_binary_accuracy: 0.8500\n",
      "Epoch 14/25\n",
      "88/88 [==============================] - 0s 3ms/step - loss: 2.0425 - binary_accuracy: 0.8514 - val_loss: 1.8832 - val_binary_accuracy: 0.8500\n",
      "Epoch 15/25\n",
      "88/88 [==============================] - 0s 3ms/step - loss: 2.0425 - binary_accuracy: 0.8514 - val_loss: 1.8832 - val_binary_accuracy: 0.8500\n",
      "Epoch 16/25\n",
      "88/88 [==============================] - 0s 3ms/step - loss: 2.0425 - binary_accuracy: 0.8514 - val_loss: 1.8832 - val_binary_accuracy: 0.8500\n",
      "Epoch 17/25\n",
      "88/88 [==============================] - 0s 3ms/step - loss: 2.0425 - binary_accuracy: 0.8514 - val_loss: 1.8832 - val_binary_accuracy: 0.8500\n",
      "Epoch 18/25\n",
      "88/88 [==============================] - 0s 3ms/step - loss: 2.0425 - binary_accuracy: 0.8514 - val_loss: 1.8832 - val_binary_accuracy: 0.8500\n",
      "Epoch 19/25\n",
      "88/88 [==============================] - 0s 3ms/step - loss: 2.0425 - binary_accuracy: 0.8514 - val_loss: 1.8832 - val_binary_accuracy: 0.8500\n",
      "Epoch 20/25\n",
      "88/88 [==============================] - 0s 3ms/step - loss: 2.0425 - binary_accuracy: 0.8514 - val_loss: 1.8832 - val_binary_accuracy: 0.8500\n",
      "Epoch 21/25\n",
      "88/88 [==============================] - 0s 3ms/step - loss: 2.0425 - binary_accuracy: 0.8514 - val_loss: 1.8832 - val_binary_accuracy: 0.8500\n",
      "Epoch 22/25\n",
      "88/88 [==============================] - 0s 3ms/step - loss: 2.0425 - binary_accuracy: 0.8514 - val_loss: 1.8832 - val_binary_accuracy: 0.8500\n",
      "Epoch 23/25\n",
      "88/88 [==============================] - 0s 3ms/step - loss: 2.0425 - binary_accuracy: 0.8514 - val_loss: 1.8832 - val_binary_accuracy: 0.8500\n",
      "Epoch 24/25\n",
      "88/88 [==============================] - 0s 3ms/step - loss: 2.0425 - binary_accuracy: 0.8514 - val_loss: 1.8832 - val_binary_accuracy: 0.8500\n",
      "Epoch 25/25\n",
      "88/88 [==============================] - 0s 3ms/step - loss: 2.0425 - binary_accuracy: 0.8514 - val_loss: 1.8832 - val_binary_accuracy: 0.8500\n"
     ]
    }
   ],
   "source": [
    "history = model.fit(train_ds, \n",
    "                    validation_data=test_ds,\n",
    "                    epochs=25)"
   ]
  },
  {
   "cell_type": "code",
   "execution_count": 30,
   "metadata": {},
   "outputs": [
    {
     "data": {
      "text/plain": [
       "<matplotlib.legend.Legend at 0x7f94600d9450>"
      ]
     },
     "execution_count": 30,
     "metadata": {},
     "output_type": "execute_result"
    },
    {
     "data": {
      "image/png": "[encoded data removed]",
      "text/plain": [
       "<Figure size 720x360 with 2 Axes>"
      ]
     },
     "metadata": {},
     "output_type": "display_data"
    }
   ],
   "source": [
    "rows, cols = 1, 2\n",
    "fig, axs = plt.subplots(rows, cols, figsize=(10,5))\n",
    "\n",
    "axs[0].plot(history.history['loss'])\n",
    "axs[0].plot(history.history['val_loss'])\n",
    "axs[0].set_title('Loss')\n",
    "axs[0].legend(['train_loss','val_loss'])\n",
    "\n",
    "axs[1].plot(history.history['binary_accuracy'])\n",
    "axs[1].plot(history.history['val_binary_accuracy'])\n",
    "axs[1].set_title('Accuracy')\n",
    "axs[1].legend(['Train accuracy','Test accuracy'])"
   ]
  },
  {
   "cell_type": "code",
   "execution_count": 31,
   "metadata": {},
   "outputs": [
    {
     "name": "stdout",
     "output_type": "stream",
     "text": [
      "Age: 89. Is old: True\n",
      "Age: 79. Is old: True\n",
      "Age: 20. Is old: False\n",
      "Age: 14. Is old: False\n",
      "Age: 12. Is old: False\n",
      "Age: 34. Is old: False\n",
      "Age: 17. Is old: False\n",
      "Age: 31. Is old: False\n",
      "Age: 22. Is old: False\n",
      "Age: 76. Is old: True\n",
      "Age: 98. Is old: True\n",
      "Age: 17. Is old: False\n",
      "Age: 7. Is old: False\n",
      "Age: 58. Is old: True\n",
      "Age: 56. Is old: True\n",
      "Age: 88. Is old: True\n",
      "Age: 72. Is old: True\n",
      "Age: 3. Is old: False\n",
      "Age: 13. Is old: False\n",
      "Age: 60. Is old: True\n",
      "Age: 24. Is old: False\n",
      "Age: 57. Is old: True\n",
      "Age: 13. Is old: False\n",
      "Age: 99. Is old: True\n",
      "Age: 82. Is old: True\n",
      "Age: 26. Is old: False\n",
      "Age: 43. Is old: True\n",
      "Age: 80. Is old: True\n",
      "Age: 44. Is old: True\n",
      "Age: 93. Is old: True\n",
      "Age: 50. Is old: True\n",
      "Age: 6. Is old: False\n",
      "Age: 30. Is old: False\n",
      "Age: 31. Is old: False\n",
      "Age: 69. Is old: True\n",
      "Age: 95. Is old: True\n",
      "Age: 84. Is old: True\n",
      "Age: 22. Is old: False\n",
      "Age: 40. Is old: False\n",
      "Age: 45. Is old: True\n",
      "Age: 58. Is old: True\n",
      "Age: 81. Is old: True\n",
      "Age: 35. Is old: False\n",
      "Age: 45. Is old: True\n",
      "Age: 19. Is old: False\n",
      "Age: 26. Is old: False\n",
      "Age: 81. Is old: True\n",
      "Age: 20. Is old: False\n",
      "Age: 31. Is old: False\n",
      "Age: 0. Is old: False\n",
      "Age: 24. Is old: False\n",
      "Age: 49. Is old: True\n",
      "Age: 64. Is old: True\n",
      "Age: 19. Is old: False\n",
      "Age: 83. Is old: True\n",
      "Age: 21. Is old: False\n",
      "Age: 25. Is old: False\n",
      "Age: 2. Is old: False\n",
      "Age: 28. Is old: False\n",
      "Age: 51. Is old: True\n",
      "Age: 45. Is old: True\n",
      "Age: 43. Is old: True\n",
      "Age: 20. Is old: False\n",
      "Age: 51. Is old: True\n",
      "Age: 57. Is old: True\n",
      "Age: 11. Is old: False\n",
      "Age: 61. Is old: True\n",
      "Age: 62. Is old: True\n",
      "Age: 15. Is old: False\n",
      "Age: 7. Is old: False\n",
      "Age: 25. Is old: False\n",
      "Age: 49. Is old: True\n",
      "Age: 52. Is old: True\n",
      "Age: 33. Is old: False\n",
      "Age: 67. Is old: True\n",
      "Age: 3. Is old: False\n",
      "Age: 24. Is old: False\n",
      "Age: 8. Is old: False\n",
      "Age: 18. Is old: False\n",
      "Age: 83. Is old: True\n",
      "Age: 6. Is old: False\n",
      "Age: 64. Is old: True\n",
      "Age: 50. Is old: True\n",
      "Age: 64. Is old: True\n",
      "Age: 32. Is old: False\n",
      "Age: 83. Is old: True\n",
      "Age: 62. Is old: True\n",
      "Age: 98. Is old: True\n",
      "Age: 56. Is old: True\n",
      "Age: 90. Is old: True\n",
      "Age: 46. Is old: True\n",
      "Age: 4. Is old: False\n",
      "Age: 58. Is old: True\n",
      "Age: 10. Is old: False\n",
      "Age: 98. Is old: True\n",
      "Age: 63. Is old: True\n",
      "Age: 18. Is old: False\n",
      "Age: 8. Is old: False\n",
      "Age: 51. Is old: True\n",
      "Age: 98. Is old: True\n",
      "Age: 55. Is old: True\n",
      "Age: 72. Is old: True\n",
      "Age: 41. Is old: False\n",
      "Age: 37. Is old: False\n",
      "Age: 60. Is old: True\n",
      "Age: 4. Is old: False\n",
      "Age: 96. Is old: True\n",
      "Age: 22. Is old: False\n",
      "Age: 29. Is old: False\n",
      "Age: 32. Is old: False\n",
      "Age: 76. Is old: True\n",
      "Age: 14. Is old: False\n",
      "Age: 86. Is old: True\n",
      "Age: 34. Is old: False\n",
      "Age: 64. Is old: True\n",
      "Age: 26. Is old: False\n",
      "Age: 43. Is old: True\n",
      "Age: 46. Is old: True\n",
      "Age: 79. Is old: True\n",
      "Age: 72. Is old: True\n",
      "Age: 42. Is old: True\n",
      "Age: 81. Is old: True\n",
      "Age: 21. Is old: False\n",
      "Age: 31. Is old: False\n",
      "Age: 33. Is old: False\n",
      "Age: 47. Is old: True\n",
      "Age: 41. Is old: False\n",
      "Age: 90. Is old: True\n",
      "Age: 36. Is old: False\n",
      "Age: 63. Is old: True\n",
      "Age: 2. Is old: False\n",
      "Age: 28. Is old: False\n",
      "Age: 57. Is old: True\n",
      "Age: 73. Is old: True\n",
      "Age: 85. Is old: True\n",
      "Age: 49. Is old: True\n",
      "Age: 62. Is old: True\n",
      "Age: 65. Is old: True\n",
      "Age: 90. Is old: True\n",
      "Age: 24. Is old: False\n",
      "Age: 19. Is old: False\n",
      "Age: 21. Is old: False\n",
      "Age: 85. Is old: True\n",
      "Age: 62. Is old: True\n",
      "Age: 28. Is old: False\n",
      "Age: 17. Is old: False\n",
      "Age: 41. Is old: False\n",
      "Age: 62. Is old: True\n",
      "Age: 10. Is old: False\n",
      "Age: 12. Is old: False\n",
      "Age: 61. Is old: True\n",
      "Age: 16. Is old: False\n",
      "Age: 43. Is old: True\n",
      "Age: 23. Is old: False\n",
      "Age: 28. Is old: False\n",
      "Age: 42. Is old: True\n",
      "Age: 31. Is old: False\n",
      "Age: 27. Is old: False\n",
      "Age: 19. Is old: False\n",
      "Age: 22. Is old: False\n",
      "Age: 74. Is old: True\n",
      "Age: 49. Is old: True\n",
      "Age: 90. Is old: True\n",
      "Age: 79. Is old: True\n",
      "Age: 44. Is old: True\n",
      "Age: 35. Is old: False\n",
      "Age: 57. Is old: True\n",
      "Age: 28. Is old: False\n",
      "Age: 55. Is old: True\n",
      "Age: 35. Is old: False\n",
      "Age: 77. Is old: True\n",
      "Age: 45. Is old: True\n",
      "Age: 58. Is old: True\n",
      "Age: 22. Is old: False\n",
      "Age: 9. Is old: False\n",
      "Age: 3. Is old: False\n",
      "Age: 14. Is old: False\n",
      "Age: 85. Is old: True\n",
      "Age: 56. Is old: True\n",
      "Age: 8. Is old: False\n",
      "Age: 97. Is old: True\n",
      "Age: 66. Is old: True\n",
      "Age: 74. Is old: True\n",
      "Age: 27. Is old: False\n",
      "Age: 28. Is old: False\n",
      "Age: 49. Is old: True\n",
      "Age: 49. Is old: True\n",
      "Age: 67. Is old: True\n",
      "Age: 50. Is old: True\n",
      "Age: 2. Is old: False\n",
      "Age: 17. Is old: False\n",
      "Age: 0. Is old: False\n",
      "Age: 70. Is old: True\n",
      "Age: 55. Is old: True\n",
      "Age: 3. Is old: False\n",
      "Age: 0. Is old: False\n",
      "Age: 14. Is old: False\n",
      "Age: 16. Is old: False\n",
      "Age: 47. Is old: True\n",
      "Age: 1. Is old: False\n",
      "Age: 93. Is old: True\n",
      "Age: 82. Is old: True\n",
      "Age: 97. Is old: True\n",
      "Age: 54. Is old: True\n",
      "Age: 83. Is old: True\n",
      "Age: 26. Is old: False\n",
      "Age: 96. Is old: True\n",
      "Age: 9. Is old: False\n",
      "Age: 67. Is old: True\n",
      "Age: 97. Is old: True\n",
      "Age: 84. Is old: True\n",
      "Age: 98. Is old: True\n",
      "Age: 86. Is old: True\n",
      "Age: 96. Is old: True\n",
      "Age: 16. Is old: False\n",
      "Age: 89. Is old: True\n",
      "Age: 42. Is old: True\n",
      "Age: 84. Is old: True\n",
      "Age: 83. Is old: True\n",
      "Age: 11. Is old: False\n",
      "Age: 48. Is old: True\n",
      "Age: 5. Is old: False\n",
      "Age: 42. Is old: True\n",
      "Age: 20. Is old: False\n",
      "Age: 27. Is old: False\n",
      "Age: 5. Is old: False\n",
      "Age: 51. Is old: True\n",
      "Age: 77. Is old: True\n",
      "Age: 11. Is old: False\n",
      "Age: 17. Is old: False\n",
      "Age: 42. Is old: True\n",
      "Age: 31. Is old: False\n",
      "Age: 17. Is old: False\n",
      "Age: 66. Is old: True\n",
      "Age: 81. Is old: True\n",
      "Age: 59. Is old: True\n",
      "Age: 9. Is old: False\n",
      "Age: 70. Is old: True\n",
      "Age: 65. Is old: True\n",
      "Age: 96. Is old: True\n",
      "Age: 63. Is old: True\n",
      "Age: 83. Is old: True\n",
      "Age: 5. Is old: False\n",
      "Age: 61. Is old: True\n",
      "Age: 82. Is old: True\n",
      "Age: 91. Is old: True\n",
      "Age: 23. Is old: False\n",
      "Age: 76. Is old: True\n",
      "Age: 94. Is old: True\n",
      "Age: 20. Is old: False\n",
      "Age: 98. Is old: True\n",
      "Age: 6. Is old: False\n",
      "Age: 45. Is old: True\n",
      "Age: 10. Is old: False\n",
      "Age: 47. Is old: True\n",
      "Age: 94. Is old: True\n",
      "Age: 45. Is old: True\n",
      "Age: 9. Is old: False\n",
      "Age: 76. Is old: True\n",
      "Age: 57. Is old: True\n",
      "Age: 10. Is old: False\n",
      "Age: 78. Is old: True\n",
      "Age: 29. Is old: False\n",
      "Age: 30. Is old: False\n",
      "Age: 56. Is old: True\n",
      "Age: 61. Is old: True\n",
      "Age: 36. Is old: False\n",
      "Age: 73. Is old: True\n",
      "Age: 64. Is old: True\n",
      "Age: 46. Is old: True\n",
      "Age: 61. Is old: True\n",
      "Age: 1. Is old: False\n",
      "Age: 10. Is old: False\n",
      "Age: 2. Is old: False\n",
      "Age: 59. Is old: True\n",
      "Age: 68. Is old: True\n",
      "Age: 53. Is old: True\n",
      "Age: 57. Is old: True\n",
      "Age: 46. Is old: True\n",
      "Age: 56. Is old: True\n",
      "Age: 12. Is old: False\n",
      "Age: 57. Is old: True\n",
      "Age: 98. Is old: True\n",
      "Age: 94. Is old: True\n",
      "Age: 39. Is old: False\n",
      "Age: 81. Is old: True\n",
      "Age: 4. Is old: False\n",
      "Age: 69. Is old: True\n",
      "Age: 28. Is old: False\n",
      "Age: 47. Is old: True\n",
      "Age: 99. Is old: True\n",
      "Age: 73. Is old: True\n",
      "Age: 79. Is old: True\n",
      "Age: 88. Is old: True\n",
      "Age: 27. Is old: False\n",
      "Age: 37. Is old: False\n",
      "Age: 10. Is old: False\n",
      "Age: 24. Is old: False\n",
      "Age: 66. Is old: True\n",
      "Age: 46. Is old: True\n"
     ]
    }
   ],
   "source": [
    "# Важное замечание. BinaryAccuracy по умолчанию имеет порог 0.5. Т.е. результат интерпретируется тоже\n",
    "# от порога 0.5, а не 0, хотя в результатаых будут отрицательные числа\n",
    "test_ds = test_ds.batch(1)\n",
    "for X, y in test_ds:\n",
    "    age = X['Age'].numpy().squeeze()\n",
    "    res = model(X).numpy().squeeze()\n",
    "    print(f\"Age: {age}. Is old: {res > 0.5}\")"
   ]
  },
  {
   "cell_type": "code",
   "execution_count": 32,
   "metadata": {},
   "outputs": [],
   "source": [
    "# Видим, что классификатор немного завышает. 28 все еще не old. Эффект разбиения."
   ]
  },
  {
   "cell_type": "code",
   "execution_count": null,
   "metadata": {},
   "outputs": [],
   "source": []
  }
 ],
 "metadata": {
  "kernelspec": {
   "display_name": "Python 3",
   "language": "python",
   "name": "python3"
  },
  "language_info": {
   "codemirror_mode": {
    "name": "ipython",
    "version": 3
   },
   "file_extension": ".py",
   "mimetype": "text/x-python",
   "name": "python",
   "nbconvert_exporter": "python",
   "pygments_lexer": "ipython3",
   "version": "3.7.5"
  }
 },
 "nbformat": 4,
 "nbformat_minor": 4
}
